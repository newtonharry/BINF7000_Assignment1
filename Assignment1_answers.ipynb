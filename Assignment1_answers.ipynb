{
 "cells": [
  {
   "cell_type": "code",
   "execution_count": 53,
   "metadata": {},
   "outputs": [],
   "source": [
    "import sequence\n",
    "import prob\n",
    "import sym"
   ]
  },
  {
   "cell_type": "code",
   "execution_count": 15,
   "metadata": {},
   "outputs": [
    {
     "name": "stdout",
     "output_type": "stream",
     "text": [
      "[<sequence.Sequence object at 0xffff90f90fd0>, <sequence.Sequence object at 0xffff90f91210>, <sequence.Sequence object at 0xffffb862cd30>, <sequence.Sequence object at 0xffff91343e20>, <sequence.Sequence object at 0xffff91342440>, <sequence.Sequence object at 0xffff91342560>, <sequence.Sequence object at 0xffff913426e0>, <sequence.Sequence object at 0xffff91342800>, <sequence.Sequence object at 0xffff913429b0>, <sequence.Sequence object at 0xffff91343070>, <sequence.Sequence object at 0xffff91342cb0>, <sequence.Sequence object at 0xffff91342bf0>, <sequence.Sequence object at 0xffff9133e800>, <sequence.Sequence object at 0xffff9133c820>, <sequence.Sequence object at 0xffff9133e6e0>, <sequence.Sequence object at 0xffff9133c670>, <sequence.Sequence object at 0xffff9133c610>, <sequence.Sequence object at 0xffff9133ca90>, <sequence.Sequence object at 0xffff9133e410>, <sequence.Sequence object at 0xffff9133e5c0>, <sequence.Sequence object at 0xffff9133e830>, <sequence.Sequence object at 0xffff9133e770>, <sequence.Sequence object at 0xffff9133e7d0>, <sequence.Sequence object at 0xffff9133e7a0>, <sequence.Sequence object at 0xffff9133e620>, <sequence.Sequence object at 0xffff9133c700>, <sequence.Sequence object at 0xffff9133c790>, <sequence.Sequence object at 0xffff9133e8f0>, <sequence.Sequence object at 0xffff9133e9b0>, <sequence.Sequence object at 0xffff9133ea10>, <sequence.Sequence object at 0xffff9133eef0>, <sequence.Sequence object at 0xffff9133ef80>, <sequence.Sequence object at 0xffff9133f160>, <sequence.Sequence object at 0xffff9133f1c0>, <sequence.Sequence object at 0xffff9133e740>, <sequence.Sequence object at 0xffff9133f0a0>, <sequence.Sequence object at 0xffff9133eb00>, <sequence.Sequence object at 0xffff9133c400>, <sequence.Sequence object at 0xffff9133ee00>, <sequence.Sequence object at 0xffff9133e8c0>, <sequence.Sequence object at 0xffff9133e710>, <sequence.Sequence object at 0xffff9133e4d0>, <sequence.Sequence object at 0xffff9133c910>, <sequence.Sequence object at 0xffff9133c9d0>, <sequence.Sequence object at 0xffff9133c8b0>, <sequence.Sequence object at 0xffff9133c7f0>, <sequence.Sequence object at 0xffff9133c730>, <sequence.Sequence object at 0xffff9133c5e0>, <sequence.Sequence object at 0xffff9133c4f0>, <sequence.Sequence object at 0xffff9133f550>, <sequence.Sequence object at 0xffff9133d990>, <sequence.Sequence object at 0xffff9133fd90>, <sequence.Sequence object at 0xffff9133c3d0>, <sequence.Sequence object at 0xffff9133d360>, <sequence.Sequence object at 0xffff9133f310>, <sequence.Sequence object at 0xffff9133c640>, <sequence.Sequence object at 0xffff9133c7c0>, <sequence.Sequence object at 0xffff9133c850>, <sequence.Sequence object at 0xffff9133c8e0>, <sequence.Sequence object at 0xffff9133c9a0>, <sequence.Sequence object at 0xffff9133e440>, <sequence.Sequence object at 0xffff9133cb20>, <sequence.Sequence object at 0xffff9133caf0>, <sequence.Sequence object at 0xffff9133e4a0>, <sequence.Sequence object at 0xffff9133e500>, <sequence.Sequence object at 0xffff9133e5f0>, <sequence.Sequence object at 0xffff9133e9e0>, <sequence.Sequence object at 0xffff9133ea70>, <sequence.Sequence object at 0xffff9133ecb0>, <sequence.Sequence object at 0xffff9133ece0>, <sequence.Sequence object at 0xffff9133ec50>, <sequence.Sequence object at 0xffff9133ec80>, <sequence.Sequence object at 0xffff9133edd0>, <sequence.Sequence object at 0xffff9133ee90>, <sequence.Sequence object at 0xffff9133efb0>, <sequence.Sequence object at 0xffff9133ef50>, <sequence.Sequence object at 0xffff9133f070>, <sequence.Sequence object at 0xffff9133f100>, <sequence.Sequence object at 0xffff9133f220>, <sequence.Sequence object at 0xffff9133c5b0>, <sequence.Sequence object at 0xffff9133f130>, <sequence.Sequence object at 0xffff9133f1f0>, <sequence.Sequence object at 0xffff9133c760>, <sequence.Sequence object at 0xffff9133c6d0>, <sequence.Sequence object at 0xffff9133c520>, <sequence.Sequence object at 0xffff9133c190>, <sequence.Sequence object at 0xffff9133ec20>, <sequence.Sequence object at 0xffff9133e860>, <sequence.Sequence object at 0xffff9133c460>, <sequence.Sequence object at 0xffff9133c550>, <sequence.Sequence object at 0xffff910aaef0>, <sequence.Sequence object at 0xffff910a9900>, <sequence.Sequence object at 0xffff910a96c0>, <sequence.Sequence object at 0xffff910ab790>, <sequence.Sequence object at 0xffff910ab0d0>, <sequence.Sequence object at 0xffff910a9210>, <sequence.Sequence object at 0xffff910aada0>, <sequence.Sequence object at 0xffff910a9f30>, <sequence.Sequence object at 0xffff910abca0>, <sequence.Sequence object at 0xffff910ab040>, <sequence.Sequence object at 0xffff910ab940>, <sequence.Sequence object at 0xffff911759c0>, <sequence.Sequence object at 0xffff91175570>, <sequence.Sequence object at 0xffff91175450>, <sequence.Sequence object at 0xffff91175180>, <sequence.Sequence object at 0xffff91174850>, <sequence.Sequence object at 0xffff91174640>, <sequence.Sequence object at 0xffff91177940>, <sequence.Sequence object at 0xffff91176680>, <sequence.Sequence object at 0xffff91175690>, <sequence.Sequence object at 0xffff9107dff0>, <sequence.Sequence object at 0xffff9107f0a0>, <sequence.Sequence object at 0xffff9107ddb0>, <sequence.Sequence object at 0xffff9107c040>, <sequence.Sequence object at 0xffff9107e290>, <sequence.Sequence object at 0xffff9107d900>, <sequence.Sequence object at 0xffff9107ff40>, <sequence.Sequence object at 0xffff9107e890>, <sequence.Sequence object at 0xffff9107c400>, <sequence.Sequence object at 0xffff9107c2b0>, <sequence.Sequence object at 0xffff9107d330>, <sequence.Sequence object at 0xffff9107d840>, <sequence.Sequence object at 0xffff91097a90>, <sequence.Sequence object at 0xffff91095750>, <sequence.Sequence object at 0xffff91094bb0>, <sequence.Sequence object at 0xffff910945b0>, <sequence.Sequence object at 0xffff91094ee0>, <sequence.Sequence object at 0xffff910961d0>, <sequence.Sequence object at 0xffff91097c10>, <sequence.Sequence object at 0xffff91094190>, <sequence.Sequence object at 0xffff910971f0>, <sequence.Sequence object at 0xffff91095cf0>, <sequence.Sequence object at 0xffff91095ed0>, <sequence.Sequence object at 0xffff91094d30>, <sequence.Sequence object at 0xffff91094490>, <sequence.Sequence object at 0xffff9119cbe0>, <sequence.Sequence object at 0xffff9119c640>, <sequence.Sequence object at 0xffff9119edd0>, <sequence.Sequence object at 0xffff9119c100>, <sequence.Sequence object at 0xffff9119eaa0>, <sequence.Sequence object at 0xffff9119ebc0>, <sequence.Sequence object at 0xffff9119fe20>, <sequence.Sequence object at 0xffff9106bb50>, <sequence.Sequence object at 0xffff9106b4c0>, <sequence.Sequence object at 0xffff91068a00>, <sequence.Sequence object at 0xffff91068cd0>, <sequence.Sequence object at 0xffff910699f0>, <sequence.Sequence object at 0xffff91069390>, <sequence.Sequence object at 0xffff9106ac20>, <sequence.Sequence object at 0xffff9106bf10>, <sequence.Sequence object at 0xffff9106bc70>, <sequence.Sequence object at 0xffff9106a800>, <sequence.Sequence object at 0xffff9106b700>, <sequence.Sequence object at 0xffff91069210>, <sequence.Sequence object at 0xffff90f64e80>, <sequence.Sequence object at 0xffff90f673d0>, <sequence.Sequence object at 0xffff90f65450>, <sequence.Sequence object at 0xffff90f67250>, <sequence.Sequence object at 0xffff90f64610>, <sequence.Sequence object at 0xffff90f643d0>, <sequence.Sequence object at 0xffff90f65120>, <sequence.Sequence object at 0xffff906beec0>, <sequence.Sequence object at 0xffff906bf910>, <sequence.Sequence object at 0xffff906bf820>, <sequence.Sequence object at 0xffff906bf7f0>, <sequence.Sequence object at 0xffff906bf880>, <sequence.Sequence object at 0xffff906bfac0>, <sequence.Sequence object at 0xffff906bfca0>, <sequence.Sequence object at 0xffff906beda0>, <sequence.Sequence object at 0xffff906beef0>, <sequence.Sequence object at 0xffff906bf100>, <sequence.Sequence object at 0xffff906bef50>, <sequence.Sequence object at 0xffff906bfa30>, <sequence.Sequence object at 0xffff906bee90>, <sequence.Sequence object at 0xffff906bf9d0>, <sequence.Sequence object at 0xffff906befb0>, <sequence.Sequence object at 0xffff906bfb80>, <sequence.Sequence object at 0xffff906bfa60>, <sequence.Sequence object at 0xffff906bf940>, <sequence.Sequence object at 0xffff906bf8e0>, <sequence.Sequence object at 0xffff906bf970>, <sequence.Sequence object at 0xffff906bfbb0>, <sequence.Sequence object at 0xffff906bfc10>, <sequence.Sequence object at 0xffff906bfa90>, <sequence.Sequence object at 0xffff906bf640>, <sequence.Sequence object at 0xffff9115ead0>, <sequence.Sequence object at 0xffff9115ea40>, <sequence.Sequence object at 0xffff9115ea70>, <sequence.Sequence object at 0xffff9115eaa0>, <sequence.Sequence object at 0xffff9115e830>, <sequence.Sequence object at 0xffff9115e800>, <sequence.Sequence object at 0xffff9115e860>, <sequence.Sequence object at 0xffff9115e890>, <sequence.Sequence object at 0xffff9115e8c0>, <sequence.Sequence object at 0xffff9115e8f0>, <sequence.Sequence object at 0xffff9115e920>, <sequence.Sequence object at 0xffff9115e950>, <sequence.Sequence object at 0xffff9115e980>, <sequence.Sequence object at 0xffff9115e9b0>, <sequence.Sequence object at 0xffff9115e9e0>, <sequence.Sequence object at 0xffff9115ea10>, <sequence.Sequence object at 0xffff9115cbe0>, <sequence.Sequence object at 0xffff9115ca30>, <sequence.Sequence object at 0xffff9115cac0>, <sequence.Sequence object at 0xffff9115cb20>, <sequence.Sequence object at 0xffff9115d960>, <sequence.Sequence object at 0xffff9115ca00>, <sequence.Sequence object at 0xffff9115ca60>, <sequence.Sequence object at 0xffff9115c8b0>, <sequence.Sequence object at 0xffff9115c8e0>, <sequence.Sequence object at 0xffff9115c910>, <sequence.Sequence object at 0xffff9115c940>, <sequence.Sequence object at 0xffff9115c970>, <sequence.Sequence object at 0xffff9115c9a0>, <sequence.Sequence object at 0xffff9115c9d0>, <sequence.Sequence object at 0xffff9115cc10>, <sequence.Sequence object at 0xffff9115cc40>, <sequence.Sequence object at 0xffff9115cc70>, <sequence.Sequence object at 0xffff9115cca0>, <sequence.Sequence object at 0xffffb401fdf0>, <sequence.Sequence object at 0xffff91150220>, <sequence.Sequence object at 0xffff90f7c7f0>, <sequence.Sequence object at 0xffff90f50790>, <sequence.Sequence object at 0xffff9114e2c0>, <sequence.Sequence object at 0xffff9114e290>, <sequence.Sequence object at 0xffff9114e2f0>, <sequence.Sequence object at 0xffff9114e320>, <sequence.Sequence object at 0xffff9115d990>, <sequence.Sequence object at 0xffff9115d9c0>, <sequence.Sequence object at 0xffff9115d9f0>, <sequence.Sequence object at 0xffff9115d810>, <sequence.Sequence object at 0xffff9115d840>, <sequence.Sequence object at 0xffff9115d870>, <sequence.Sequence object at 0xffff9115d7e0>, <sequence.Sequence object at 0xffff9115d6f0>, <sequence.Sequence object at 0xffff9115d720>, <sequence.Sequence object at 0xffff9115d780>, <sequence.Sequence object at 0xffff9115d7b0>, <sequence.Sequence object at 0xffff9115d750>, <sequence.Sequence object at 0xffff9115d6c0>, <sequence.Sequence object at 0xffff9115d480>, <sequence.Sequence object at 0xffff9115d450>, <sequence.Sequence object at 0xffff9115d420>, <sequence.Sequence object at 0xffff9115d3f0>, <sequence.Sequence object at 0xffff9115d3c0>, <sequence.Sequence object at 0xffff9115d390>, <sequence.Sequence object at 0xffff9115d360>, <sequence.Sequence object at 0xffff9115d330>, <sequence.Sequence object at 0xffff9115d300>, <sequence.Sequence object at 0xffff9115d2d0>, <sequence.Sequence object at 0xffff9115d2a0>, <sequence.Sequence object at 0xffff9115d270>, <sequence.Sequence object at 0xffff9115d240>, <sequence.Sequence object at 0xffff9115d210>, <sequence.Sequence object at 0xffff9115d1e0>, <sequence.Sequence object at 0xffff9115d1b0>, <sequence.Sequence object at 0xffff9115d180>, <sequence.Sequence object at 0xffff9115d150>, <sequence.Sequence object at 0xffff9115d120>, <sequence.Sequence object at 0xffff9115d0f0>, <sequence.Sequence object at 0xffff9115d0c0>, <sequence.Sequence object at 0xffff9115d090>, <sequence.Sequence object at 0xffff9115d060>, <sequence.Sequence object at 0xffff9115d030>, <sequence.Sequence object at 0xffff9115d000>, <sequence.Sequence object at 0xffff9115cfd0>, <sequence.Sequence object at 0xffff9115cfa0>, <sequence.Sequence object at 0xffff9115cf70>, <sequence.Sequence object at 0xffff9115cf40>, <sequence.Sequence object at 0xffff9115cf10>, <sequence.Sequence object at 0xffff9115cee0>, <sequence.Sequence object at 0xffff9115ceb0>, <sequence.Sequence object at 0xffff9115ce80>, <sequence.Sequence object at 0xffff9115ce50>, <sequence.Sequence object at 0xffff9115ce20>, <sequence.Sequence object at 0xffff9115cdf0>, <sequence.Sequence object at 0xffff9115cdc0>, <sequence.Sequence object at 0xffff9115cd90>, <sequence.Sequence object at 0xffff9115cd60>, <sequence.Sequence object at 0xffff9115cd30>, <sequence.Sequence object at 0xffff9115cd00>, <sequence.Sequence object at 0xffff9115ccd0>, <sequence.Sequence object at 0xffff9115c880>, <sequence.Sequence object at 0xffff9115c850>, <sequence.Sequence object at 0xffff9115c820>, <sequence.Sequence object at 0xffff9115c7f0>, <sequence.Sequence object at 0xffff9115c7c0>, <sequence.Sequence object at 0xffff9115c790>, <sequence.Sequence object at 0xffff9115c760>, <sequence.Sequence object at 0xffff9115c730>, <sequence.Sequence object at 0xffff9115c700>, <sequence.Sequence object at 0xffff9115c6d0>, <sequence.Sequence object at 0xffff9115d8a0>, <sequence.Sequence object at 0xffff9115d930>, <sequence.Sequence object at 0xffff9115d900>, <sequence.Sequence object at 0xffff9115d8d0>, <sequence.Sequence object at 0xffff9115d4b0>, <sequence.Sequence object at 0xffff9115d4e0>, <sequence.Sequence object at 0xffff9115d510>, <sequence.Sequence object at 0xffff9115d540>, <sequence.Sequence object at 0xffff9115d570>, <sequence.Sequence object at 0xffff9115d5a0>, <sequence.Sequence object at 0xffff9115d5d0>, <sequence.Sequence object at 0xffff9115d600>, <sequence.Sequence object at 0xffff9115d630>, <sequence.Sequence object at 0xffff9115d660>, <sequence.Sequence object at 0xffff9115d690>, <sequence.Sequence object at 0xffff9115da20>, <sequence.Sequence object at 0xffff9115da50>, <sequence.Sequence object at 0xffff9115da80>, <sequence.Sequence object at 0xffff9115dab0>, <sequence.Sequence object at 0xffff9115dae0>, <sequence.Sequence object at 0xffff9115db10>, <sequence.Sequence object at 0xffff9115db40>, <sequence.Sequence object at 0xffff9115db70>, <sequence.Sequence object at 0xffff9115dba0>, <sequence.Sequence object at 0xffff9115dbd0>, <sequence.Sequence object at 0xffff9115dc00>, <sequence.Sequence object at 0xffff9115dc30>, <sequence.Sequence object at 0xffff9115dc60>, <sequence.Sequence object at 0xffff9115dc90>, <sequence.Sequence object at 0xffff9115dcc0>, <sequence.Sequence object at 0xffff9115dcf0>, <sequence.Sequence object at 0xffff9115dd20>, <sequence.Sequence object at 0xffff9115dd50>, <sequence.Sequence object at 0xffff9115dd80>, <sequence.Sequence object at 0xffff9115ddb0>, <sequence.Sequence object at 0xffff9115dde0>, <sequence.Sequence object at 0xffff9115de10>, <sequence.Sequence object at 0xffff9115de40>, <sequence.Sequence object at 0xffff9115de70>, <sequence.Sequence object at 0xffff9115dea0>, <sequence.Sequence object at 0xffff9115ded0>, <sequence.Sequence object at 0xffff9115df00>, <sequence.Sequence object at 0xffff9115df30>, <sequence.Sequence object at 0xffff9115df60>, <sequence.Sequence object at 0xffff9115df90>, <sequence.Sequence object at 0xffff9115dfc0>, <sequence.Sequence object at 0xffff9115dff0>, <sequence.Sequence object at 0xffff9115e020>, <sequence.Sequence object at 0xffff9115e050>, <sequence.Sequence object at 0xffff9115e080>, <sequence.Sequence object at 0xffff9115e0b0>, <sequence.Sequence object at 0xffff9115e0e0>, <sequence.Sequence object at 0xffff9115e110>, <sequence.Sequence object at 0xffff9115e140>, <sequence.Sequence object at 0xffff9115e170>, <sequence.Sequence object at 0xffff9115e1a0>, <sequence.Sequence object at 0xffff9115e1d0>, <sequence.Sequence object at 0xffff9115e200>, <sequence.Sequence object at 0xffff9115e230>, <sequence.Sequence object at 0xffff9115e260>, <sequence.Sequence object at 0xffff9115e290>, <sequence.Sequence object at 0xffff9115e2c0>, <sequence.Sequence object at 0xffff9115e2f0>, <sequence.Sequence object at 0xffff9115e320>, <sequence.Sequence object at 0xffff9115e350>, <sequence.Sequence object at 0xffff9115e380>, <sequence.Sequence object at 0xffff9115e3b0>, <sequence.Sequence object at 0xffff9115e3e0>, <sequence.Sequence object at 0xffff9115e410>, <sequence.Sequence object at 0xffff9115e440>, <sequence.Sequence object at 0xffff9115e470>, <sequence.Sequence object at 0xffff9115e4a0>, <sequence.Sequence object at 0xffff9115e4d0>, <sequence.Sequence object at 0xffff9115e500>, <sequence.Sequence object at 0xffff9115e530>, <sequence.Sequence object at 0xffff9115e560>, <sequence.Sequence object at 0xffff9115e590>, <sequence.Sequence object at 0xffff9115e5c0>, <sequence.Sequence object at 0xffff9115e5f0>, <sequence.Sequence object at 0xffff9115e620>, <sequence.Sequence object at 0xffff9115e650>, <sequence.Sequence object at 0xffff9115e680>, <sequence.Sequence object at 0xffff9115e6b0>, <sequence.Sequence object at 0xffff9115e6e0>, <sequence.Sequence object at 0xffff9115e710>, <sequence.Sequence object at 0xffff9115e740>, <sequence.Sequence object at 0xffff9115e770>, <sequence.Sequence object at 0xffff9115e7a0>, <sequence.Sequence object at 0xffff9115e7d0>, <sequence.Sequence object at 0xffff9115eb00>, <sequence.Sequence object at 0xffff9115eb30>, <sequence.Sequence object at 0xffff9115eb60>, <sequence.Sequence object at 0xffff9115eb90>, <sequence.Sequence object at 0xffff9115ebc0>, <sequence.Sequence object at 0xffff9115ebf0>, <sequence.Sequence object at 0xffff9115ec20>, <sequence.Sequence object at 0xffff9115ec50>, <sequence.Sequence object at 0xffff9115ec80>, <sequence.Sequence object at 0xffff9115ecb0>, <sequence.Sequence object at 0xffff9115ece0>, <sequence.Sequence object at 0xffff9115ed10>, <sequence.Sequence object at 0xffff9115ed40>, <sequence.Sequence object at 0xffff9115ed70>, <sequence.Sequence object at 0xffff9115eda0>, <sequence.Sequence object at 0xffff9115edd0>, <sequence.Sequence object at 0xffff9115ee00>, <sequence.Sequence object at 0xffff9115ee30>, <sequence.Sequence object at 0xffff9115ee60>, <sequence.Sequence object at 0xffff9115ee90>, <sequence.Sequence object at 0xffff9115eec0>, <sequence.Sequence object at 0xffff9115eef0>, <sequence.Sequence object at 0xffff9115ef20>, <sequence.Sequence object at 0xffff9115ef50>, <sequence.Sequence object at 0xffff9115ef80>]\n",
      "0.05688622754491018\n",
      "0.057644892481508066\n"
     ]
    }
   ],
   "source": [
    "# Problem A1\n",
    "\n",
    "myDNA = sym.Alphabet('ACGT') # Define an alphabet, but many are pre-defined in sym.py, e.g. sym.Protein_Alphabet\n",
    "d = prob.Distrib(sequence.Protein_Alphabet) \n",
    "bacterial_sequences = sequence.readFastaFile('up_bac.fa')\n",
    "bg = prob.readDistrib('blosum62.distrib')\n",
    "\n",
    "# First part\n",
    "print(bg['S'])\n",
    "\n",
    "\n",
    "# Second part\n",
    "for bac_seq in bacterial_sequences:\n",
    "    for nucleotide in bac_seq:\n",
    "        d.observe(nucleotide)\n",
    "\n",
    "print(d['S'])\n"
   ]
  },
  {
   "cell_type": "code",
   "execution_count": null,
   "metadata": {},
   "outputs": [],
   "source": [
    "# Problem A2\n",
    "\n",
    "# Read sequences from the FASTA file 'example_seqsa.fa' using a specific alphabet 'my_alpha'\n",
    "seqs = sequence.readFastaFile('example_seqsa.fa', my_alpha)\n",
    "\n",
    "# Define the width of the motif we are looking for (this value needs to be assigned)\n",
    "W = ? \n",
    "\n",
    "# Initialize the Gibbs Motif discovery process for the sequences 'seqs' with the motif width 'W'\n",
    "g = gibbs.GibbsMotif(seqs, W)\n",
    "\n",
    "# Start the motif discovery process using the Gibbs algorithm for 1000 iterations\n",
    "q = g.discover(niter = 1000)"
   ]
  },
  {
   "cell_type": "code",
   "execution_count": 22,
   "metadata": {},
   "outputs": [
    {
     "name": "stdout",
     "output_type": "stream",
     "text": [
      "LL @     0=\t108.16\n",
      "LL @   100=\t1011.98\n",
      "LL @   200=\t1897.95\n",
      "LL @   300=\t2449.09\n",
      "LL @   400=\t2796.30\n",
      "LL @   500=\t2954.31\n",
      "LL @   600=\t3079.36\n",
      "LL @   700=\t3203.24\n",
      "LL @   800=\t3334.96\n",
      "LL @   900=\t3332.23\n",
      "LL @  1000=\t3335.40\n",
      "LL @  1100=\t3331.85\n",
      "LL @  1200=\t3332.22\n",
      "LL @  1300=\t3377.00\n",
      "LL @  1400=\t3376.78\n",
      "LL @  1500=\t3378.24\n",
      "LL @  1600=\t3378.45\n",
      "LL @  1700=\t3379.30\n",
      "LL @  1800=\t3377.87\n",
      "LL @  1900=\t3379.28\n",
      "Consensus: PROTEIN"
     ]
    }
   ],
   "source": [
    "# Problem A3\n",
    "import gibbs\n",
    "my_alpha = sym.Alphabet('ABCDEFGHIJKLMNOPQRSTUVWXYZ')\n",
    "\n",
    "seqs = sequence.readFastaFile('example_seqs.fa', my_alpha)\n",
    "W = 7 # the width of the motif sought\n",
    "g = gibbs.GibbsMotif(seqs, W)\n",
    "q = g.discover(niter = 2000)\n",
    "print('Consensus: ', end='')\n",
    "for pos in q:\n",
    "    print(pos.getmax(), end='')\n",
    "    \n",
    "    \n",
    "# Answer: PROTEIN"
   ]
  },
  {
   "cell_type": "code",
   "execution_count": 29,
   "metadata": {},
   "outputs": [
    {
     "name": "stdout",
     "output_type": "stream",
     "text": [
      "Background distribution: < A=0.04 B=0.04 C=0.04 D=0.04 E=0.04 F=0.04 G=0.04 H=0.04 I=0.04 J=0.04 K=0.04 L=0.03 M=0.04 N=0.04 O=0.04 P=0.04 Q=0.04 R=0.04 S=0.04 T=0.04 U=0.04 V=0.04 W=0.04 X=0.04 Y=0.04 Z=0.04  >\n"
     ]
    }
   ],
   "source": [
    "# Problem A4\n",
    "p = g.getBackground()\n",
    "print('Background distribution:', p)\n",
    "# Answer: < A=0.04 B=0.04 C=0.04 D=0.04 E=0.04 F=0.04 G=0.04 H=0.04 I=0.04 J=0.04 K=0.04 L=0.03 M=0.04 N=0.04 O=0.04 P=0.04 Q=0.04 R=0.04 S=0.04 T=0.04 U=0.04 V=0.04 W=0.04 X=0.04 Y=0.04 Z=0.04  >\n",
    "# The background was generated to be uniform across all amino acids\n",
    "# This is likely not ot happen in realy biological sequences as there are evolutionary pressures being applied to DNA, making the background\n",
    "# distribution to conform to certain, non-uniform probabilities\n",
    "\n",
    "\n",
    "\n",
    "\n"
   ]
  },
  {
   "cell_type": "code",
   "execution_count": null,
   "metadata": {},
   "outputs": [],
   "source": [
    "# Problem A5\n",
    "# Answer: seq4"
   ]
  },
  {
   "cell_type": "code",
   "execution_count": null,
   "metadata": {},
   "outputs": [],
   "source": [
    "# Problem A6\n",
    "# Answer: 58-246"
   ]
  },
  {
   "cell_type": "code",
   "execution_count": null,
   "metadata": {},
   "outputs": [],
   "source": [
    "# Problem A7\n",
    "# Answer: MBL-fold metallo-hydrolase domain\n"
   ]
  },
  {
   "cell_type": "code",
   "execution_count": 27,
   "metadata": {},
   "outputs": [
    {
     "name": "stdout",
     "output_type": "stream",
     "text": [
      "LL @     0=\t80.99\n",
      "LL @   100=\t99.77\n",
      "LL @   200=\t115.83\n",
      "LL @   300=\t138.73\n",
      "LL @   400=\t156.01\n",
      "LL @   500=\t172.42\n",
      "LL @   600=\t193.89\n",
      "LL @   700=\t220.11\n",
      "LL @   800=\t246.88\n",
      "LL @   900=\t284.33\n",
      "LL @  1000=\t313.94\n",
      "LL @  1100=\t342.12\n",
      "LL @  1200=\t394.86\n",
      "LL @  1300=\t420.48\n",
      "LL @  1400=\t466.41\n",
      "LL @  1500=\t536.25\n",
      "LL @  1600=\t615.54\n",
      "LL @  1700=\t716.82\n",
      "LL @  1800=\t985.92\n",
      "LL @  1900=\t1386.03\n",
      "LL @  2000=\t1959.56\n",
      "LL @  2100=\t2597.12\n",
      "LL @  2200=\t3282.89\n",
      "LL @  2300=\t3961.99\n",
      "LL @  2400=\t4637.45\n",
      "LL @  2500=\t5203.69\n",
      "LL @  2600=\t5917.82\n",
      "LL @  2700=\t6477.91\n",
      "LL @  2800=\t7107.30\n",
      "LL @  2900=\t7622.82\n",
      "LL @  3000=\t7954.46\n",
      "LL @  3100=\t8488.10\n",
      "LL @  3200=\t8961.05\n",
      "LL @  3300=\t9520.71\n",
      "LL @  3400=\t9913.21\n",
      "LL @  3500=\t10166.75\n",
      "LL @  3600=\t10700.66\n",
      "LL @  3700=\t11022.00\n",
      "LL @  3800=\t11452.27\n",
      "LL @  3900=\t11761.34\n",
      "LL @  4000=\t11876.35\n",
      "LL @  4100=\t12051.15\n",
      "LL @  4200=\t12262.24\n",
      "LL @  4300=\t12493.27\n",
      "LL @  4400=\t12729.22\n",
      "Consensus: THGHPDH\n",
      "Background distribution: < A=0.09 C=0.01 D=0.05 E=0.06 F=0.04 G=0.08 H=0.03 I=0.07 K=0.05 L=0.11 M=0.02 N=0.03 P=0.05 Q=0.03 R=0.06 S=0.06 T=0.05 V=0.07 W=0.01 Y=0.03  >\n"
     ]
    }
   ],
   "source": [
    "# Motif Discovery of MBLS\n",
    "from  pprint import pprint\n",
    "from binfpy.gibbs import GibbsMotif\n",
    "from binfpy.guide import readFastaFile\n",
    "from binfpy.sym import Protein_Alphabet\n",
    "\n",
    "\n",
    "seqs = readFastaFile('mbl_seqs.fa',Protein_Alphabet)\n",
    "W = 7 # the width of the motif sought\n",
    "# Check for convergence\n",
    "\n",
    "\n",
    "def discover_ideal_niters():\n",
    "    for niter in range(1000,5500,500):\n",
    "        consensus_seqs = []\n",
    "        for i in range(5):\n",
    "            g = GibbsMotif(seqs,W)\n",
    "            q = g.discover(niter=niter)\n",
    "            consensus_seqs.append(\"\".join(pos.getmax() for pos in q))\n",
    "        pprint(consensus_seqs)\n",
    "        if all(consensus_seqs[0] == seq for seq in consensus_seqs):\n",
    "            print(f\"Chosen number of iterations is: {niter}\")\n",
    "            break\n",
    "        \n",
    "        \n",
    "g = GibbsMotif(seqs,W)\n",
    "q = g.discover(niter=4500)\n",
    "print('Consensus: ', end='')\n",
    "for pos in q:\n",
    "    print(pos.getmax(), end='')\n",
    "\n",
    "\n",
    "\n",
    "print()\n",
    "p = g.getBackground()\n",
    "print('Background distribution:', p)"
   ]
  },
  {
   "cell_type": "code",
   "execution_count": null,
   "metadata": {},
   "outputs": [],
   "source": [
    "# Problem A8\n",
    "# Answer: The window sized used was 7 as this is the number of residues at the active site which are conserved.\n",
    "# By setting the window size to encompass these conserved residues, we aim to capture the most functionally relevant patterns when analyzing or comparing sequences"
   ]
  },
  {
   "cell_type": "code",
   "execution_count": null,
   "metadata": {},
   "outputs": [],
   "source": [
    "# Problem A9\n",
    "# Answer: The number of iterations used was 4500 because upon each run of this niter paramater, this was the most common consensus sequence.\n",
    "# This consensus sequence was also showing up in niters lower and higher than the selected one, indicating that the gibbs algorithm has converged on a likely global optima"
   ]
  },
  {
   "cell_type": "code",
   "execution_count": 29,
   "metadata": {},
   "outputs": [
    {
     "name": "stdout",
     "output_type": "stream",
     "text": [
      "A\t -2.83  -2.65  +0.41  -3.73  +0.07  -3.05  -1.88\n",
      "C\t -2.46  -5.50  +0.39  -1.39  -1.11  -1.79  -1.79\n",
      "D\t -1.68  -2.03  -0.49  +1.11  -0.43  +2.83  -2.18\n",
      "E\t -7.02  -2.22  -0.41  -1.02  -0.24  -1.71  -1.82\n",
      "F\t -3.05  -1.97  +0.42  -1.97  +0.59  -3.72  -3.05\n",
      "G\t -1.89  -2.58  +0.51  -2.58  +0.10  -2.17  -3.66\n",
      "H\t -1.48  +3.53  +0.57  +3.32  -0.14  -1.88  +3.52\n",
      "I\t -4.13  -2.38  -0.88  -3.06  -0.26  -3.46  -4.13\n",
      "K\t -2.01  -2.69  -1.50  -2.69  -0.71  -3.09  -2.41\n",
      "L\t -1.98  -2.49  +0.01  -2.61  -0.23  -2.13  -2.29\n",
      "M\t -2.97  -2.97  -0.02  -6.02  -0.13  -2.97  -6.02\n",
      "N\t -1.91  -1.91  -0.13  -1.58  +0.06  -2.13  -2.41\n",
      "P\t -2.55  -2.33  +0.69  -2.00  +0.86  -1.87  -2.84\n",
      "Q\t -2.70  -1.47  -0.53  -1.80  -0.33  -2.70  -2.02\n",
      "R\t -2.12  -2.46  -1.08  -2.27  -0.64  -2.46  -1.43\n",
      "S\t +1.57  -1.92  +0.20  -1.63  +0.18  -2.72  -2.50\n",
      "T\t +2.50  -2.11  -0.13  -2.29  -0.48  -2.51  -2.51\n",
      "V\t -1.85  -2.85  -1.47  -3.13  -0.69  -2.63  -2.45\n",
      "W\t -5.70  -2.65  +0.13  -5.70  +1.10  -5.70  -1.99\n",
      "Y\t -2.31  -2.70  +0.41  -2.31  +0.69  -1.47  -1.47\n",
      "\n"
     ]
    }
   ],
   "source": [
    "# Construct PWM\n",
    "from binfpy.sequence import PWM\n",
    "\n",
    "\n",
    "pwm = PWM(q,p)\n",
    "print(pwm)"
   ]
  },
  {
   "cell_type": "code",
   "execution_count": null,
   "metadata": {},
   "outputs": [],
   "source": [
    "# Problem A12\n",
    "# Answer: Background distribution: < A=0.09 C=0.01 D=0.05 E=0.06 F=0.04 G=0.08 H=0.03 I=0.07 K=0.05 L=0.11 M=0.02 N=0.03 P=0.05 Q=0.03 R=0.06 S=0.06 T=0.05 V=0.07 W=0.01 Y=0.03  >\n",
    "# The background distribution is based off the gibbs sampling algorithm "
   ]
  },
  {
   "cell_type": "code",
   "execution_count": null,
   "metadata": {},
   "outputs": [],
   "source": [
    "# Problem A13\n",
    "# Answer: The positions which have the highest level of conservation are \n",
    "# 1, T, +2.5\n",
    "# 2, H, 3.53\n",
    "# 4, H, 3.32\n",
    "# 6, D, 2.83\n",
    "# 7, H, 3.52\n",
    "# The reasons for their conservation are due to their involvement with the active site of the protein. \n",
    "# Histidine is the highest scoring residue indicating that it has particular importantce in the active site, \n",
    "# where the other residues are more likely to be less conserved across the other positions as they probably provide \n",
    "# simiilar physiochemical properties within the active site"
   ]
  },
  {
   "cell_type": "code",
   "execution_count": 54,
   "metadata": {},
   "outputs": [
    {
     "name": "stdout",
     "output_type": "stream",
     "text": [
      "3.5000000000000018\n",
      "0.85\n",
      "1.0\n"
     ]
    }
   ],
   "source": [
    "# Construct threshold discovery code\n",
    "positive_seqs = readFastaFile('positives.fa', Protein_Alphabet)\n",
    "negative_seqs = readFastaFile('negatives.fa', Protein_Alphabet)\n",
    "\n",
    "best_threshold = None\n",
    "best_combined_value = 0\n",
    "threshold = 0\n",
    "while threshold <= 10:\n",
    "    \n",
    "    # True Positives: Sequences in positive set that match\n",
    "    true_positives = sum([1 for sequence in positive_seqs if pwm.search(sequence, threshold)])\n",
    "    \n",
    "    # False Positives: Sequences in negative set that match\n",
    "    false_positives = sum([1 for sequence in negative_seqs if pwm.search(sequence, threshold)])\n",
    "    \n",
    "    false_negatives = 20 - true_positives # If there are less than 20 true positives, then false_negatives exist\n",
    "    \n",
    "    sensitivity = true_positives / 20 \n",
    "    \n",
    "    # Specificity calculation\n",
    "    specificity = 1 - (false_positives / 20)\n",
    "    \n",
    "    combined_value = sensitivity + specificity\n",
    "    if combined_value > best_combined_value:\n",
    "        best_combined_value = combined_value\n",
    "        best_threshold = threshold\n",
    "        \n",
    "    threshold += 0.1\n",
    "    \n",
    "print(best_threshold)\n",
    "print(sensitivity)\n",
    "print(specificity)\n",
    "    "
   ]
  },
  {
   "cell_type": "code",
   "execution_count": null,
   "metadata": {},
   "outputs": [],
   "source": [
    "# Problem A14\n",
    "# Answer: The reason why this threshold was chosen is because it optimizes for having 20  matches in the positive.fa file\n",
    "# and 0 matches in the negatives.fa file.\n",
    "# The interesting aspect of this value is that it corresponds closely with the weighting of the histidine AA in the PWM"
   ]
  },
  {
   "cell_type": "code",
   "execution_count": null,
   "metadata": {},
   "outputs": [],
   "source": [
    "# Problem A15\n",
    "# Answer: Given my threshold and observations, the likely sensitivity and specificity of the PWM is high (close to 1)"
   ]
  },
  {
   "cell_type": "code",
   "execution_count": 87,
   "metadata": {},
   "outputs": [
    {
     "name": "stdout",
     "output_type": "stream",
     "text": [
      "Number of matches: 25\n",
      "Highest scoring protein: sp|A8ABX8|Y1254_IGNH4\n",
      "tr|L7Y0F6|L7Y0F6_9BACT\n",
      "sp|Q9KJB0|BLAB6_ELIME\n",
      "tr|Q9K2N0|Q9K2N0_PSEAI\n",
      "tr|Q5U807|Q5U807_PSEAI\n",
      "tr|Q7BJM5|Q7BJM5_PSEPU\n",
      "sp|Q988B9|PDLA_RHILO\n",
      "sp|P26918|BLAB_AERHY\n",
      "tr|Q9K578|Q9K578_9GAMM\n",
      "tr|G9JVE6|G9JVE6_ECOLX\n",
      "sp|P0A8V0|RBN_ECOLI\n",
      "tr|D1MEN9|D1MEN9_PSEAI\n",
      "tr|Q8G9Q0|Q8G9Q0_PSEAI\n",
      "tr|X5CZV5|X5CZV5_KLEPN\n",
      "sp|A8ABX8|Y1254_IGNH4\n",
      "sp|O24495|GLO2M_ARATH\n",
      "sp|P54427|YBXI_BACSU\n",
      "sp|P52700|BLA1_STEMA\n",
      "tr|Q704V1|Q704V1_PSEAI\n",
      "sp|P14488|BLAB_BACCE\n",
      "tr|M1VE66|M1VE66_ECOLX\n",
      "tr|A0A1L5BQA7|A0A1L5BQA7_SPHIB\n",
      "tr|B2FTM1|B2FTM1_STRMK\n"
     ]
    }
   ],
   "source": [
    "# Write code for searching the beta-lactam degrading enzymes here...\n",
    "active_seqs = readFastaFile('active.fa', Protein_Alphabet)\n",
    "# Search and store both the sequence and its best result\n",
    "results_with_seq = [(sequence, pwm.search(sequence, 3.5)) for sequence in active_seqs]\n",
    "print(f\"Number of matches: {sum(len(matches[1]) for matches in results_with_seq)}\")\n",
    "\n",
    "# Extract the best score for each sequence\n",
    "best_score_with_seq = [(seq, max(res, key=lambda x: x[2])) for seq, res in results_with_seq if len(res) > 0]\n",
    "\n",
    "# Find the highest score across all sequences\n",
    "highest_score_with_seq = max(best_score_with_seq, key=lambda x: x[1][2])\n",
    "\n",
    "print(f\"Highest scoring protein: {highest_score_with_seq[0].name}\")\n",
    "\n",
    "\n",
    "for seq,score in best_score_with_seq:\n",
    "    print(seq.name)"
   ]
  },
  {
   "cell_type": "code",
   "execution_count": null,
   "metadata": {},
   "outputs": [],
   "source": [
    "# Problem A17\n",
    "# Answer: 25"
   ]
  },
  {
   "cell_type": "code",
   "execution_count": null,
   "metadata": {},
   "outputs": [],
   "source": [
    "# Problem A18\n",
    "# Answer: IPR001279"
   ]
  },
  {
   "cell_type": "code",
   "execution_count": null,
   "metadata": {},
   "outputs": [],
   "source": [
    "# Problem A19\n",
    "# Answer: Given the threshold value of 3.5, it favours the presence of histidine amino acids. Its likely that the proteins \n",
    "# cabale of beta lactamase activity did not contain motifs of the given size with enough histidines"
   ]
  },
  {
   "cell_type": "code",
   "execution_count": null,
   "metadata": {},
   "outputs": [],
   "source": []
  }
 ],
 "metadata": {
  "kernelspec": {
   "display_name": "base",
   "language": "python",
   "name": "python3"
  },
  "language_info": {
   "codemirror_mode": {
    "name": "ipython",
    "version": 3
   },
   "file_extension": ".py",
   "mimetype": "text/x-python",
   "name": "python",
   "nbconvert_exporter": "python",
   "pygments_lexer": "ipython3",
   "version": "3.10.9"
  },
  "orig_nbformat": 4
 },
 "nbformat": 4,
 "nbformat_minor": 2
}
